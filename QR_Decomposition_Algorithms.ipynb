{
  "nbformat": 4,
  "nbformat_minor": 0,
  "metadata": {
    "colab": {
      "provenance": [],
      "authorship_tag": "ABX9TyOQuOS4EEVVk0P7RO420GDp",
      "include_colab_link": true
    },
    "kernelspec": {
      "name": "python3",
      "display_name": "Python 3"
    },
    "language_info": {
      "name": "python"
    }
  },
  "cells": [
    {
      "cell_type": "markdown",
      "metadata": {
        "id": "view-in-github",
        "colab_type": "text"
      },
      "source": [
        "<a href=\"https://colab.research.google.com/github/cnwokoye1/QR-Decomposition/blob/main/QR_Decomposition_Algorithms.ipynb\" target=\"_parent\"><img src=\"https://colab.research.google.com/assets/colab-badge.svg\" alt=\"Open In Colab\"/></a>"
      ]
    },
    {
      "cell_type": "code",
      "execution_count": 10,
      "metadata": {
        "id": "wXHO6HsKQgN-"
      },
      "outputs": [],
      "source": [
        "import numpy as np\n",
        "\n",
        "# generate matrix A with random int values\n",
        "A = np.array(np.random.randint (0, 10, (3, 3)), dtype=np.float64)"
      ]
    },
    {
      "cell_type": "markdown",
      "source": [
        "## QR by Gram-Schmidt"
      ],
      "metadata": {
        "id": "q_nnxZMm6QWn"
      }
    },
    {
      "cell_type": "code",
      "source": [
        "def gram_schmidt(A):\n",
        "    m, n  = A.shape\n",
        "    Q = np.zeros((m, n))\n",
        "    Q[:, 0] = A[:, 0] / np.linalg.norm(A[:, 0], 2)\n",
        "    for i in range(1, n):\n",
        "        Q[:, i] = A[:, i]\n",
        "        for j in range(0, i):\n",
        "            inner = np.dot(Q[:, j].T, Q[:, i])\n",
        "            Q[:, i] = Q[:, i] - np.dot(inner, Q[:, j])\n",
        "        Q[:, i] = Q[:, i] / np.linalg.norm(Q[:, i], 2)\n",
        "    return Q\n",
        "\n",
        "def qr_gs(A):\n",
        "    m, n = A.shape\n",
        "    Q = gram_schmidt(A)\n",
        "    R = np.zeros((m, n))\n",
        "    for i in range(0, n):\n",
        "        R[i, i] = np.dot(Q[:, i], A[:, i])\n",
        "        for j in range(0, i):\n",
        "            R[j, i] = np.dot(Q[:, j], A[:, i])\n",
        "    return Q, R\n",
        "\n",
        "Q, R = qr_gs(A)\n",
        "print(\"A: \")\n",
        "print(A)\n",
        "print(\"Q: \")\n",
        "print(Q)\n",
        "print(\"R: \")\n",
        "print(np.round(R, 3))\n"
      ],
      "metadata": {
        "colab": {
          "base_uri": "https://localhost:8080/"
        },
        "id": "zJlRIX_U6U6N",
        "outputId": "599d3dfe-33ff-4e7d-86b6-d9f06426aa88"
      },
      "execution_count": 11,
      "outputs": [
        {
          "output_type": "stream",
          "name": "stdout",
          "text": [
            "A: \n",
            "[[4. 4. 9.]\n",
            " [4. 3. 2.]\n",
            " [3. 4. 6.]]\n",
            "Q: \n",
            "[[ 0.62469505  0.06941056  0.77777778]\n",
            " [ 0.62469505 -0.64204769 -0.44444444]\n",
            " [ 0.46852129  0.76351617 -0.44444444]]\n",
            "R: \n",
            "[[6.403 6.247 9.683]\n",
            " [0.    1.406 3.922]\n",
            " [0.    0.    3.444]]\n"
          ]
        }
      ]
    },
    {
      "cell_type": "markdown",
      "source": [
        "##QR by Givens Rotations"
      ],
      "metadata": {
        "id": "TNfIHmsFn7o4"
      }
    },
    {
      "cell_type": "code",
      "source": [
        "def givensrotation(a, b):\n",
        "  hypot = np.sqrt(a**2 + b**2)\n",
        "  cos = a / hypot\n",
        "  sin = -b / hypot\n",
        "  return cos, sin\n",
        "\n",
        "def qr_givens(A):\n",
        "  m, n = A.shape\n",
        "  R = A.copy()\n",
        "  Q = np.identity(m)\n",
        "  # loop over columns\n",
        "  for i in range(0, n-1):\n",
        "    # loop over rows\n",
        "    for j in range(i+1, m):\n",
        "      cos, sin = givensrotation(R[i, i], R[j, i])\n",
        "      R[i], R[j] = (R[i] * cos) + (R[j] * (-sin)), (R[i] * sin) + (R[j] * cos)\n",
        "      Q[:, i], Q[:, j] = (Q[:, i] * cos) + (Q[:, j] * (-sin)), (Q[:, i] * sin) + (Q[:, j] * cos)\n",
        "  return Q, R\n",
        "\n",
        "Q, R = qr_givens(A)\n",
        "print(\"A: \")\n",
        "print(A)\n",
        "print(\"Q: \")\n",
        "print(Q)\n",
        "print(\"R: \")\n",
        "print(np.round(R, 3))\n"
      ],
      "metadata": {
        "id": "FcTRSe2328Av",
        "colab": {
          "base_uri": "https://localhost:8080/"
        },
        "outputId": "a5db9ec9-a461-4a9b-9359-419c913b2d3d"
      },
      "execution_count": 12,
      "outputs": [
        {
          "output_type": "stream",
          "name": "stdout",
          "text": [
            "A: \n",
            "[[4. 4. 9.]\n",
            " [4. 3. 2.]\n",
            " [3. 4. 6.]]\n",
            "Q: \n",
            "[[ 0.62469505  0.06941056  0.77777778]\n",
            " [ 0.62469505 -0.64204769 -0.44444444]\n",
            " [ 0.46852129  0.76351617 -0.44444444]]\n",
            "R: \n",
            "[[ 6.403  6.247  9.683]\n",
            " [ 0.     1.406  3.922]\n",
            " [-0.     0.     3.444]]\n"
          ]
        }
      ]
    },
    {
      "cell_type": "markdown",
      "source": [
        "##QR by Householder"
      ],
      "metadata": {
        "id": "IACA-LpxKWQ8"
      }
    },
    {
      "cell_type": "code",
      "source": [
        "def qr_householder(A):\n",
        "  m, n = A.shape\n",
        "  R = A.copy()\n",
        "  Q = np.identity(m)\n",
        "  # Loop over every column of matrix A except for the last\n",
        "  for i in range(0, n - 1):\n",
        "    alpha = np.linalg.norm(R[i:, i], 2)\n",
        "    avec = np.zeros_like(R[i:, [i]])\n",
        "    avec[0] = alpha\n",
        "    u = R[i:, [i]] - avec\n",
        "    v = u / np.linalg.norm(u, 2)\n",
        "    Qn = np.identity(m - i) - (2 * np.dot(v, v.T))\n",
        "    # The following line pads each submatrix w/ 1s along the diagonal and 0s\n",
        "    # elsewhere so as to be able to still properly do matrix multiplication\n",
        "    Qn = np.block([[np.eye(i), np.zeros((i, m - i))], [np.zeros((m - i, i)), Qn]])\n",
        "    R = np.dot(Qn, R)\n",
        "    Q = np.dot(Q, Qn.T)\n",
        "  return Q, R\n",
        "\n",
        "Q, R = qr_householder(A)\n",
        "print(\"A: \")\n",
        "print(A)\n",
        "print(\"Q:\")\n",
        "print(Q)\n",
        "print(\"R:\")\n",
        "print(np.round(R, 3))"
      ],
      "metadata": {
        "id": "6-boHfRA3Eja",
        "colab": {
          "base_uri": "https://localhost:8080/"
        },
        "outputId": "71ca80ea-313b-4249-e5b5-d470a8d3dcea"
      },
      "execution_count": 13,
      "outputs": [
        {
          "output_type": "stream",
          "name": "stdout",
          "text": [
            "A: \n",
            "[[4. 4. 9.]\n",
            " [4. 3. 2.]\n",
            " [3. 4. 6.]]\n",
            "Q:\n",
            "[[ 0.62469505  0.06941056  0.77777778]\n",
            " [ 0.62469505 -0.64204769 -0.44444444]\n",
            " [ 0.46852129  0.76351617 -0.44444444]]\n",
            "R:\n",
            "[[ 6.403  6.247  9.683]\n",
            " [ 0.     1.406  3.922]\n",
            " [-0.    -0.     3.444]]\n"
          ]
        }
      ]
    }
  ]
}