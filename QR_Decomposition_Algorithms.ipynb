{
  "nbformat": 4,
  "nbformat_minor": 0,
  "metadata": {
    "colab": {
      "provenance": [],
      "authorship_tag": "ABX9TyMVGXTY2EE/AYOSX+9fQtJH",
      "include_colab_link": true
    },
    "kernelspec": {
      "name": "python3",
      "display_name": "Python 3"
    },
    "language_info": {
      "name": "python"
    }
  },
  "cells": [
    {
      "cell_type": "markdown",
      "metadata": {
        "id": "view-in-github",
        "colab_type": "text"
      },
      "source": [
        "<a href=\"https://colab.research.google.com/github/cnwokoye1/QR-Decomposition/blob/main/QR_Decomposition_Algorithms.ipynb\" target=\"_parent\"><img src=\"https://colab.research.google.com/assets/colab-badge.svg\" alt=\"Open In Colab\"/></a>"
      ]
    },
    {
      "cell_type": "code",
      "execution_count": 4,
      "metadata": {
        "id": "wXHO6HsKQgN-"
      },
      "outputs": [],
      "source": [
        "import numpy as np\n",
        "\n",
        "# generate matrix A with random int values\n",
        "A = np.array(np.random.randint (0, 10, (3, 3)), dtype=np.float64)"
      ]
    },
    {
      "cell_type": "markdown",
      "source": [
        "##QR by Givens Rotations"
      ],
      "metadata": {
        "id": "TNfIHmsFn7o4"
      }
    },
    {
      "cell_type": "code",
      "source": [
        "def givensrotation(a, b):\n",
        "  hypot = np.sqrt(a**2 + b**2)\n",
        "  cos = a / hypot\n",
        "  sin = -b / hypot\n",
        "  return cos, sin\n",
        "\n",
        "def qr_givens(A):\n",
        "  m, n = A.shape\n",
        "  R = A.copy()\n",
        "  Q = np.identity(m)\n",
        "  # loop over columns\n",
        "  for i in range(0, n-1):\n",
        "    # loop over rows\n",
        "    for j in range(i+1, m):\n",
        "      cos, sin = givensrotation(R[i, i], R[j, i])\n",
        "      R[i], R[j] = (R[i] * cos) + (R[j] * (-sin)), (R[i] * sin) + (R[j] * cos)\n",
        "      Q[:, i], Q[:, j] = (Q[:, i] * cos) + (Q[:, j] * (-sin)), (Q[:, i] * sin) + (Q[:, j] * cos)\n",
        "  return Q, R\n",
        "\n",
        "Q, R = qr_givens(A)\n",
        "print(\"A: \")\n",
        "print(A)\n",
        "print(\"Q: \")\n",
        "print(Q)\n",
        "print(\"R: \")\n",
        "print(np.round(R, 3))\n"
      ],
      "metadata": {
        "id": "FcTRSe2328Av",
        "colab": {
          "base_uri": "https://localhost:8080/"
        },
        "outputId": "0946c3ed-5d7b-4fb3-d1ee-9625907bc51a"
      },
      "execution_count": 5,
      "outputs": [
        {
          "output_type": "stream",
          "name": "stdout",
          "text": [
            "A: \n",
            "[[2. 0. 9.]\n",
            " [9. 1. 7.]\n",
            " [0. 0. 9.]]\n",
            "Q: \n",
            "[[ 0.21693046 -0.97618706  0.        ]\n",
            " [ 0.97618706  0.21693046  0.        ]\n",
            " [ 0.          0.          1.        ]]\n",
            "R: \n",
            "[[ 9.22   0.976  8.786]\n",
            " [-0.     0.217 -7.267]\n",
            " [ 0.     0.     9.   ]]\n"
          ]
        }
      ]
    },
    {
      "cell_type": "markdown",
      "source": [
        "##QR by Householder"
      ],
      "metadata": {
        "id": "IACA-LpxKWQ8"
      }
    },
    {
      "cell_type": "code",
      "source": [
        "def qr_householder(A):\n",
        "  m, n = A.shape\n",
        "  R = A.copy()\n",
        "  Q = np.identity(m)\n",
        "  # Loop over every column of matrix A except for the last\n",
        "  for i in range(0, n - 1):\n",
        "    alpha = np.linalg.norm(R[i:, i], 2)\n",
        "    avec = np.zeros_like(R[i:, [i]])\n",
        "    avec[0] = alpha\n",
        "    u = R[i:, [i]] - avec\n",
        "    v = u / np.linalg.norm(u, 2)\n",
        "    Qn = np.identity(m - i) - (2 * np.dot(v, v.T))\n",
        "    # The following line pads each submatrix w/ 1s along the diagonal and 0s\n",
        "    # elsewhere so as to be able to still properly do matrix multiplication\n",
        "    Qn = np.block([[np.eye(i), np.zeros((i, m - i))], [np.zeros((m - i, i)), Qn]])\n",
        "    R = np.dot(Qn, R)\n",
        "    Q = np.dot(Q, Qn.T)\n",
        "  return Q, R\n",
        "\n",
        "Q, R = qr_householder(A)\n",
        "print(\"A: \")\n",
        "print(A)\n",
        "print(\"Q:\")\n",
        "print(Q)\n",
        "print(\"R:\")\n",
        "print(np.round(R, 3))"
      ],
      "metadata": {
        "id": "6-boHfRA3Eja",
        "colab": {
          "base_uri": "https://localhost:8080/"
        },
        "outputId": "d0e249db-99d5-4abc-c27e-0c0b1591b24f"
      },
      "execution_count": 8,
      "outputs": [
        {
          "output_type": "stream",
          "name": "stdout",
          "text": [
            "A: \n",
            "[[2. 0. 9.]\n",
            " [9. 1. 7.]\n",
            " [0. 0. 9.]]\n",
            "Q:\n",
            "[[ 0.21693046 -0.97618706  0.        ]\n",
            " [ 0.97618706  0.21693046  0.        ]\n",
            " [ 0.          0.          1.        ]]\n",
            "R:\n",
            "[[ 9.22   0.976  8.786]\n",
            " [ 0.     0.217 -7.267]\n",
            " [ 0.     0.     9.   ]]\n"
          ]
        }
      ]
    }
  ]
}