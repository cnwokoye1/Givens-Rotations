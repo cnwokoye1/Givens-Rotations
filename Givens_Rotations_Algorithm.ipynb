{
  "nbformat": 4,
  "nbformat_minor": 0,
  "metadata": {
    "colab": {
      "provenance": [],
      "authorship_tag": "ABX9TyP80s8FAA9Pd+1O/L69R2Ax",
      "include_colab_link": true
    },
    "kernelspec": {
      "name": "python3",
      "display_name": "Python 3"
    },
    "language_info": {
      "name": "python"
    }
  },
  "cells": [
    {
      "cell_type": "markdown",
      "metadata": {
        "id": "view-in-github",
        "colab_type": "text"
      },
      "source": [
        "<a href=\"https://colab.research.google.com/github/cnwokoye1/Givens-Rotations/blob/main/Givens_Rotations_Algorithm.ipynb\" target=\"_parent\"><img src=\"https://colab.research.google.com/assets/colab-badge.svg\" alt=\"Open In Colab\"/></a>"
      ]
    },
    {
      "cell_type": "markdown",
      "source": [
        "#Givens Rotations Algorithm to find the QR decomposition of a matrix."
      ],
      "metadata": {
        "id": "Ww9Lpwi2S52S"
      }
    },
    {
      "cell_type": "code",
      "execution_count": null,
      "metadata": {
        "id": "wXHO6HsKQgN-"
      },
      "outputs": [],
      "source": []
    }
  ]
}